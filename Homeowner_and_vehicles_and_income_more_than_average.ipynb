{
  "cells": [
    {
      "cell_type": "markdown",
      "metadata": {
        "id": "view-in-github",
        "colab_type": "text"
      },
      "source": [
        "<a href=\"https://colab.research.google.com/github/fereshtehdehkhoda/Example-22-Homeowner-and-vehicles-and-income-more-than-average/blob/main/Homeowner_and_vehicles_and_income_more_than_average.ipynb\" target=\"_parent\"><img src=\"https://colab.research.google.com/assets/colab-badge.svg\" alt=\"Open In Colab\"/></a>"
      ]
    },
    {
      "cell_type": "markdown",
      "id": "2851f954-fd3e-40e3-a898-91dc68c08af2",
      "metadata": {
        "id": "2851f954-fd3e-40e3-a898-91dc68c08af2"
      },
      "source": [
        "# Homeowner and vehicles and income more than average"
      ]
    },
    {
      "cell_type": "code",
      "execution_count": null,
      "id": "3a1daca8-8c62-4aa9-9ada-b316006f48d1",
      "metadata": {
        "id": "3a1daca8-8c62-4aa9-9ada-b316006f48d1"
      },
      "outputs": [],
      "source": [
        "#فرض کنید تیم بازاریابی و فروش شرکت،\n",
        "# افراد با درآمد بالای سطح متوسط، صاحب خانه و دارای حداقل یک اتومبیل را مشتریان با پتانسیل بالا برای ارائه یک محصول جدید درنظر گرفته است\n",
        "# چند درصد مشتریان شرکت در این گروه جای می‌گیرند؟"
      ]
    },
    {
      "cell_type": "code",
      "execution_count": null,
      "id": "6bd5555d-92e0-4d1e-8702-0e72c0099c1c",
      "metadata": {
        "id": "6bd5555d-92e0-4d1e-8702-0e72c0099c1c"
      },
      "outputs": [],
      "source": [
        "import pandas as pd\n",
        "import numpy as np"
      ]
    },
    {
      "cell_type": "code",
      "execution_count": null,
      "id": "35655fdf-152d-4d78-8be0-a7aeb25c05bd",
      "metadata": {
        "id": "35655fdf-152d-4d78-8be0-a7aeb25c05bd"
      },
      "outputs": [],
      "source": [
        "data=pd.read_csv('sample_data.csv')"
      ]
    },
    {
      "cell_type": "code",
      "execution_count": null,
      "id": "c84c55d5-92bc-4c6a-9423-f2be7b4d4815",
      "metadata": {
        "id": "c84c55d5-92bc-4c6a-9423-f2be7b4d4815",
        "outputId": "b4f95320-98d6-46ab-9e3d-5cac195c7dec"
      },
      "outputs": [
        {
          "name": "stdout",
          "output_type": "stream",
          "text": [
            "<class 'pandas.core.frame.DataFrame'>\n",
            "RangeIndex: 500 entries, 0 to 499\n",
            "Data columns (total 11 columns):\n",
            " #   Column            Non-Null Count  Dtype  \n",
            "---  ------            --------------  -----  \n",
            " 0   id                500 non-null    int64  \n",
            " 1   sex               500 non-null    object \n",
            " 2   is_employed       435 non-null    object \n",
            " 3   income            493 non-null    float64\n",
            " 4   marital_status    500 non-null    object \n",
            " 5   health_insurance  500 non-null    bool   \n",
            " 6   housing_type      466 non-null    object \n",
            " 7   recent_move       466 non-null    object \n",
            " 8   num_vehicles      466 non-null    float64\n",
            " 9   age               500 non-null    float64\n",
            " 10  state_of_res      500 non-null    object \n",
            "dtypes: bool(1), float64(3), int64(1), object(6)\n",
            "memory usage: 39.7+ KB\n"
          ]
        }
      ],
      "source": [
        "data.info()"
      ]
    },
    {
      "cell_type": "code",
      "execution_count": null,
      "id": "84fe40fa-84f3-47a4-9deb-1738f131c612",
      "metadata": {
        "id": "84fe40fa-84f3-47a4-9deb-1738f131c612",
        "outputId": "ee25ec5f-c74c-4a5c-a17c-d8c8058db69b"
      },
      "outputs": [
        {
          "data": {
            "text/plain": [
              "27.173913043478258"
            ]
          },
          "execution_count": 13,
          "metadata": {},
          "output_type": "execute_result"
        }
      ],
      "source": [
        "(np.sum((data['num_vehicles']>=1) &\n",
        "       ((data['housing_type']=='Homeowner with mortgage/loan') | (data['housing_type']=='Homeowner free and clear')) &\n",
        "(data['income']>np.mean(data['income'])))/np.sum((data['num_vehicles'].notnull()) & (data['housing_type'].notnull()) & (data['income'].notnull())) )* 100"
      ]
    }
  ],
  "metadata": {
    "kernelspec": {
      "display_name": "Python 3 (ipykernel)",
      "language": "python",
      "name": "python3"
    },
    "language_info": {
      "codemirror_mode": {
        "name": "ipython",
        "version": 3
      },
      "file_extension": ".py",
      "mimetype": "text/x-python",
      "name": "python",
      "nbconvert_exporter": "python",
      "pygments_lexer": "ipython3",
      "version": "3.12.4"
    },
    "colab": {
      "provenance": [],
      "include_colab_link": true
    }
  },
  "nbformat": 4,
  "nbformat_minor": 5
}